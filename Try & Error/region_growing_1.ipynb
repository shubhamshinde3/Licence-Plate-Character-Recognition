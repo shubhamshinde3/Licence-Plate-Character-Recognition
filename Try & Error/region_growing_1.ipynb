{
 "cells": [
  {
   "cell_type": "code",
   "execution_count": 1,
   "id": "6d92fef0",
   "metadata": {},
   "outputs": [],
   "source": [
    "import cv2 as cv2\n",
    "import numpy as np"
   ]
  },
  {
   "cell_type": "code",
   "execution_count": 2,
   "id": "a5f0935b",
   "metadata": {},
   "outputs": [
    {
     "data": {
      "text/plain": [
       "-1"
      ]
     },
     "execution_count": 2,
     "metadata": {},
     "output_type": "execute_result"
    }
   ],
   "source": [
    "img_name = \"1.jpg\"\n",
    "img = cv2.imread(img_name, 0)\n",
    "cv2.imshow(\"img\",img)\n",
    "cv2.waitKey(0)"
   ]
  },
  {
   "cell_type": "code",
   "execution_count": 3,
   "id": "50d80ea3",
   "metadata": {},
   "outputs": [
    {
     "data": {
      "text/plain": [
       "-1"
      ]
     },
     "execution_count": 3,
     "metadata": {},
     "output_type": "execute_result"
    }
   ],
   "source": [
    "#function to resize the image\n",
    "def rescaleframe(frame, scale=0):\n",
    "    width = int(frame.shape[1]*scale + 500)\n",
    "    height = int(frame.shape[0]*scale + 500)\n",
    "    \n",
    "    dimension = (width, height)\n",
    "    \n",
    "    return cv2.resize(frame, dimension, interpolation=cv2.INTER_AREA)\n",
    "\n",
    "resized_img = rescaleframe(img)\n",
    "cv2.imshow('plate_number', resized_img)\n",
    "cv2.waitKey(0)"
   ]
  },
  {
   "cell_type": "code",
   "execution_count": 4,
   "id": "6bab7df6",
   "metadata": {},
   "outputs": [],
   "source": [
    "def get_binary_img(img):\n",
    "# gray img to bin image\n",
    "    bin_img = np.zeros(shape=(img.shape), dtype=np.uint8)\n",
    "    h = img.shape[0]\n",
    "    w = img.shape[1]\n",
    "    for i in range(h):\n",
    "        for j in range(w):\n",
    "            bin_img[i][j] = 255 if img[i][j] > 127 else 0\n",
    "    return bin_img\n",
    "    #cv2.imshow(\"image\",bin_img)\n",
    "    #cv2.waitKey(0)\n",
    "# call \n",
    "bin_img = get_binary_img(resized_img)"
   ]
  },
  {
   "cell_type": "markdown",
   "id": "691c5d0b",
   "metadata": {},
   "source": [
    "# code 1"
   ]
  },
  {
   "cell_type": "code",
   "execution_count": 5,
   "id": "7c6ad620",
   "metadata": {},
   "outputs": [],
   "source": [
    "def seededregion(bin_img):\n",
    "    h = bin_img.shape[0]\n",
    "    w = bin_img.shape[1]\n",
    "    directs = [(-1,-1), (0,-1), (1,-1), (1,0), (1,1), (0,1),(-1,1),(-1,0)]\n",
    "    visited = np.zeros(shape=(bin_img.shape), dtype=np.uint8)\n",
    "    while len(seeds):\n",
    "        seed = seeds.pop(0)\n",
    "        x = seed[0]\n",
    "        y = seed[1]\n",
    "    # visit point (x,y)\n",
    "        visited[y][x] = 1\n",
    "    for direct in directs:\n",
    "        cur_x = x + direct[0]\n",
    "        cur_y = y + direct[1]\n",
    "    # illegal \n",
    "        if cur_x <0 or cur_y<0 or cur_x >= h or cur_y >= w :\n",
    "            continue\n",
    "    # Not visited and belong to the same target \n",
    "        if (not visited[cur_y][cur_x]) and (bin_img[cur_y][cur_x]==bin_img[y][x]) :\n",
    "            out_img[cur_y][cur_x] = 255\n",
    "            visited[cur_y][cur_x] = 1\n",
    "            seeds.append((cur_x,cur_y))"
   ]
  },
  {
   "cell_type": "code",
   "execution_count": 10,
   "id": "96ca63a8",
   "metadata": {},
   "outputs": [
    {
     "ename": "TypeError",
     "evalue": "unsupported operand type(s) for -: 'int' and 'NoneType'",
     "output_type": "error",
     "traceback": [
      "\u001b[1;31m---------------------------------------------------------------------------\u001b[0m",
      "\u001b[1;31mTypeError\u001b[0m                                 Traceback (most recent call last)",
      "\u001b[1;32m<ipython-input-10-e18325806054>\u001b[0m in \u001b[0;36m<module>\u001b[1;34m\u001b[0m\n\u001b[0;32m     14\u001b[0m             \u001b[1;32mbreak\u001b[0m\u001b[1;33m\u001b[0m\u001b[1;33m\u001b[0m\u001b[0m\n\u001b[0;32m     15\u001b[0m         \u001b[0mI1\u001b[0m \u001b[1;33m=\u001b[0m \u001b[0mseededregion\u001b[0m\u001b[1;33m(\u001b[0m\u001b[0mbin_img\u001b[0m\u001b[1;33m)\u001b[0m\u001b[1;33m\u001b[0m\u001b[1;33m\u001b[0m\u001b[0m\n\u001b[1;32m---> 16\u001b[1;33m         \u001b[0mI\u001b[0m  \u001b[1;33m=\u001b[0m \u001b[0mI\u001b[0m \u001b[1;33m-\u001b[0m \u001b[0mI1\u001b[0m\u001b[1;33m\u001b[0m\u001b[1;33m\u001b[0m\u001b[0m\n\u001b[0m\u001b[0;32m     17\u001b[0m         \u001b[1;31m#break\u001b[0m\u001b[1;33m\u001b[0m\u001b[1;33m\u001b[0m\u001b[1;33m\u001b[0m\u001b[0m\n\u001b[0;32m     18\u001b[0m     \u001b[0mcv2\u001b[0m\u001b[1;33m.\u001b[0m\u001b[0mimshow\u001b[0m\u001b[1;33m(\u001b[0m\u001b[1;34m'segmented characters'\u001b[0m\u001b[1;33m,\u001b[0m\u001b[0mI\u001b[0m\u001b[1;33m)\u001b[0m\u001b[1;33m\u001b[0m\u001b[1;33m\u001b[0m\u001b[0m\n",
      "\u001b[1;31mTypeError\u001b[0m: unsupported operand type(s) for -: 'int' and 'NoneType'"
     ]
    }
   ],
   "source": [
    "import random \n",
    "seeds = [(10,10),(82,150),(20,300)]\n",
    "\n",
    "(x,y) = bin_img.shape\n",
    "out_img = np.zeros(shape=(bin_img.shape), dtype=np.uint8)\n",
    "#seeds = [(176,255),(229,305),(347,165)]\n",
    "#out_img = img_3.fill(255)\n",
    "I = 0\n",
    "for i in range(x):\n",
    "    for j in range(y):\n",
    "        if (bin_img[i,j] == 0):\n",
    "            i = seed(i)\n",
    "            j = seed(j)\n",
    "            break\n",
    "        I1 = seededregion(bin_img)\n",
    "        I  = I - I1\n",
    "        #break\n",
    "    cv2.imshow('segmented characters',I)\n",
    "    cv2.waitKey(0)\n",
    "    cv2.destroyAllWindows"
   ]
  },
  {
   "cell_type": "code",
   "execution_count": null,
   "id": "090b3047",
   "metadata": {},
   "outputs": [],
   "source": []
  }
 ],
 "metadata": {
  "kernelspec": {
   "display_name": "Python 3",
   "language": "python",
   "name": "python3"
  },
  "language_info": {
   "codemirror_mode": {
    "name": "ipython",
    "version": 3
   },
   "file_extension": ".py",
   "mimetype": "text/x-python",
   "name": "python",
   "nbconvert_exporter": "python",
   "pygments_lexer": "ipython3",
   "version": "3.8.8"
  }
 },
 "nbformat": 4,
 "nbformat_minor": 5
}
