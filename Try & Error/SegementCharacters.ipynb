{
 "cells": [
  {
   "cell_type": "code",
   "execution_count": null,
   "id": "e8611430",
   "metadata": {},
   "outputs": [],
   "source": []
  },
  {
   "cell_type": "code",
   "execution_count": 2,
   "id": "a732be64",
   "metadata": {},
   "outputs": [
    {
     "ename": "NameError",
     "evalue": "name 'null' is not defined",
     "output_type": "error",
     "traceback": [
      "\u001b[1;31m---------------------------------------------------------------------------\u001b[0m",
      "\u001b[1;31mNameError\u001b[0m                                 Traceback (most recent call last)",
      "\u001b[1;32m<ipython-input-2-fdc2d6889d02>\u001b[0m in \u001b[0;36m<module>\u001b[1;34m\u001b[0m\n\u001b[0;32m      5\u001b[0m \u001b[1;32mimport\u001b[0m \u001b[0mmatplotlib\u001b[0m\u001b[1;33m.\u001b[0m\u001b[0mpatches\u001b[0m \u001b[1;32mas\u001b[0m \u001b[0mpatches\u001b[0m\u001b[1;33m\u001b[0m\u001b[1;33m\u001b[0m\u001b[0m\n\u001b[0;32m      6\u001b[0m \u001b[1;32mimport\u001b[0m \u001b[0mmatplotlib\u001b[0m\u001b[1;33m.\u001b[0m\u001b[0mpyplot\u001b[0m \u001b[1;32mas\u001b[0m \u001b[0mplt\u001b[0m\u001b[1;33m\u001b[0m\u001b[1;33m\u001b[0m\u001b[0m\n\u001b[1;32m----> 7\u001b[1;33m \u001b[1;32mimport\u001b[0m \u001b[0mDetectPlate\u001b[0m\u001b[1;33m\u001b[0m\u001b[1;33m\u001b[0m\u001b[0m\n\u001b[0m",
      "\u001b[1;32m~\\OneDrive\\Desktop\\dumpy\\DetectPlate.py\u001b[0m in \u001b[0;36m<module>\u001b[1;34m\u001b[0m\n\u001b[0;32m    213\u001b[0m   {\n\u001b[0;32m    214\u001b[0m    \u001b[1;34m\"cell_type\"\u001b[0m\u001b[1;33m:\u001b[0m \u001b[1;34m\"code\"\u001b[0m\u001b[1;33m,\u001b[0m\u001b[1;33m\u001b[0m\u001b[1;33m\u001b[0m\u001b[0m\n\u001b[1;32m--> 215\u001b[1;33m    \u001b[1;34m\"execution_count\"\u001b[0m\u001b[1;33m:\u001b[0m \u001b[0mnull\u001b[0m\u001b[1;33m,\u001b[0m\u001b[1;33m\u001b[0m\u001b[1;33m\u001b[0m\u001b[0m\n\u001b[0m\u001b[0;32m    216\u001b[0m    \u001b[1;34m\"id\"\u001b[0m\u001b[1;33m:\u001b[0m \u001b[1;34m\"0328dbc1\"\u001b[0m\u001b[1;33m,\u001b[0m\u001b[1;33m\u001b[0m\u001b[1;33m\u001b[0m\u001b[0m\n\u001b[0;32m    217\u001b[0m    \u001b[1;34m\"metadata\"\u001b[0m\u001b[1;33m:\u001b[0m \u001b[1;33m{\u001b[0m\u001b[1;33m}\u001b[0m\u001b[1;33m,\u001b[0m\u001b[1;33m\u001b[0m\u001b[1;33m\u001b[0m\u001b[0m\n",
      "\u001b[1;31mNameError\u001b[0m: name 'null' is not defined"
     ]
    }
   ],
   "source": [
    "import numpy as np\n",
    "from skimage.transform import resize\n",
    "from skimage import measure\n",
    "from skimage.measure import regionprops\n",
    "import matplotlib.patches as patches\n",
    "import matplotlib.pyplot as plt\n",
    "import DetectPlate"
   ]
  },
  {
   "cell_type": "code",
   "execution_count": null,
   "id": "a1847444",
   "metadata": {},
   "outputs": [],
   "source": [
    "# The invert was done so as to convert the black pixel to white pixel and vice versa\n",
    "license_plate = np.invert(DetectPlate.plate_like_objects[0])\n",
    "\n",
    "labelled_plate = measure.label(license_plate)\n",
    "\n",
    "fig, ax1 = plt.subplots(1)\n",
    "ax1.imshow(license_plate, cmap=\"gray\")\n",
    "# the next two lines is based on the assumptions that the width of\n",
    "# a license plate should be between 5% and 15% of the license plate,\n",
    "# and height should be between 35% and 60%\n",
    "# this will eliminate some\n",
    "character_dimensions = (0.35*license_plate.shape[0], 0.60*license_plate.shape[0], 0.05*license_plate.shape[1], 0.15*license_plate.shape[1])\n",
    "min_height, max_height, min_width, max_width = character_dimensions\n",
    "\n",
    "characters = []\n",
    "counter=0\n",
    "column_list = []\n",
    "for regions in regionprops(labelled_plate):\n",
    "    y0, x0, y1, x1 = regions.bbox\n",
    "    region_height = y1 - y0\n",
    "    region_width = x1 - x0\n",
    "\n",
    "    if region_height > min_height and region_height < max_height and region_width > min_width and region_width < max_width:\n",
    "        roi = license_plate[y0:y1, x0:x1]\n",
    "\n",
    "        # draw a red bordered rectangle over the character.\n",
    "        rect_border = patches.Rectangle((x0, y0), x1 - x0, y1 - y0, edgecolor=\"red\",\n",
    "                                       linewidth=2, fill=False)\n",
    "        ax1.add_patch(rect_border)\n",
    "\n",
    "        # resize the characters to 20X20 and then append each character into the characters list\n",
    "        resized_char = resize(roi, (20, 20))\n",
    "        characters.append(resized_char)\n",
    "\n",
    "        # this is just to keep track of the arrangement of the characters\n",
    "        column_list.append(x0)\n",
    "# print(characters)\n",
    "plt.show()"
   ]
  }
 ],
 "metadata": {
  "kernelspec": {
   "display_name": "Python 3",
   "language": "python",
   "name": "python3"
  },
  "language_info": {
   "codemirror_mode": {
    "name": "ipython",
    "version": 3
   },
   "file_extension": ".py",
   "mimetype": "text/x-python",
   "name": "python",
   "nbconvert_exporter": "python",
   "pygments_lexer": "ipython3",
   "version": "3.8.8"
  }
 },
 "nbformat": 4,
 "nbformat_minor": 5
}
