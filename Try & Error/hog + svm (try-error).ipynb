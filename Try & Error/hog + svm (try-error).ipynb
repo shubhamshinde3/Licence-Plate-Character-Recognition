{
 "cells": [
  {
   "cell_type": "code",
   "execution_count": 1,
   "id": "609fbd80",
   "metadata": {},
   "outputs": [],
   "source": [
    "import os\n",
    "import cv2\n",
    "import argparse"
   ]
  },
  {
   "cell_type": "code",
   "execution_count": 3,
   "id": "df55c172",
   "metadata": {},
   "outputs": [
    {
     "name": "stderr",
     "output_type": "stream",
     "text": [
      "usage: ipykernel_launcher.py [-h] [-p PATH]\n",
      "ipykernel_launcher.py: error: unrecognized arguments: -f C:\\Users\\shubh\\AppData\\Roaming\\jupyter\\runtime\\kernel-4e13a227-2c4e-4a05-84d2-806caee47747.json\n"
     ]
    },
    {
     "ename": "SystemExit",
     "evalue": "2",
     "output_type": "error",
     "traceback": [
      "An exception has occurred, use %tb to see the full traceback.\n",
      "\u001b[1;31mSystemExit\u001b[0m\u001b[1;31m:\u001b[0m 2\n"
     ]
    }
   ],
   "source": [
    "# construct the argument parser and parser the arguments\n",
    "parser = argparse.ArgumentParser()\n",
    "parser.add_argument('-p', '--path', help='what folder to use for HOG description')\n",
    "args = vars(parser.parse_args())"
   ]
  },
  {
   "cell_type": "code",
   "execution_count": null,
   "id": "7985ace7",
   "metadata": {},
   "outputs": [],
   "source": [
    "#fe ex with hog\n",
    "from skimage.feature import hog\n",
    "import glob\n",
    "pl_img = []\n",
    "images = []\n",
    "labels = []\n",
    "for img in glob.glob(\"extracted/*.jpeg\"):\n",
    "    n= cv2.imread(img,0)\n",
    "    pl_img.append(n)\n",
    "    im2arr = np.array(n)\n",
    "    plt.imshow(n, cmap='gray')\n",
    "    plt.show()\n",
    "    \n",
    "    #fd, hog_image = hog(n,orientations=1,pixels_per_cell=(8,8),cells_per_block=(3,3),block_norm='L2-Hys',visualize=False,transform_sqrt=False,feature_vector=True,multichannel=None)\n",
    "    H, hog_image = hog(n, orientations=8, pixels_per_cell=(4,4),cells_per_block=(2, 2), visualize=True, multichannel=None, feature_vector=True)\n",
    "    #plt.axis(\"off\")\n",
    "    #hog_image = exposure.rescale_intensity(hog_image, out_range=(0, 255)).astype(\"uint8\")\n",
    "    plt.imshow(hog_image, cmap=\"gray\")\n",
    "    plt.show()\n",
    "    np.save('hog_features.npy',H) \n",
    "    print(H)\n",
    "    # update the data and labels\n",
    "    images.append(hog_image)\n",
    "    labels.append(img)\n",
    "    with open(\"csv/hog_fea.csv\", 'a') as f:\n",
    "        writer = csv.writer(f)\n",
    "        writer.writerow(H)"
   ]
  },
  {
   "cell_type": "code",
   "execution_count": null,
   "id": "2284ce6d",
   "metadata": {},
   "outputs": [],
   "source": [
    "# predict on the test images\n",
    "print('Evaluating on test images...')\n",
    "# loop over the test dataset folders\n",
    "for (i, imagePath) in enumerate(os.listdir(f\"test_images/{args['path']}/\")):\n",
    "    image = cv2.imread(f\"test_images/{args['path']}/{imagePath}\")\n",
    "    resized_image = cv2.resize(image, (128, 256))\n",
    "    # get the HOG descriptor for the test image\n",
    "    (hog_desc, hog_image) = feature.hog(resized_image, orientations=9, pixels_per_cell=(8, 8),\n",
    "        cells_per_block=(2, 2), transform_sqrt=True, block_norm='L2-Hys', visualize=True)\n",
    "    # prediction\n",
    "    pred = svm_model.predict(hog_desc.reshape(1, -1))[0]\n",
    "    # convert the HOG image to appropriate data type. We do...\n",
    "    # ... this instead of rescaling the pixels from 0. to 255.\n",
    "    hog_image = hog_image.astype('float64')\n",
    "    # show thw HOG image\n",
    "    cv2.imshow('HOG Image', hog_image)\n",
    "    # put the predicted text on the test image\n",
    "    cv2.putText(image, pred.title(), (20, 40), cv2.FONT_HERSHEY_SIMPLEX, 1.0,\n",
    "        (0, 255, 0), 2)\n",
    "    cv2.imshow('Test Image', image)\n",
    "    cv2.imwrite(f\"outputs/{args['path']}_hog_{i}.jpg\", hog_image*255.) # multiply by 255. to bring to OpenCV pixel range\n",
    "    cv2.imwrite(f\"outputs/{args['path']}_pred_{i}.jpg\", image)\n",
    "    cv2.waitKey(0)"
   ]
  }
 ],
 "metadata": {
  "kernelspec": {
   "display_name": "Python 3",
   "language": "python",
   "name": "python3"
  },
  "language_info": {
   "codemirror_mode": {
    "name": "ipython",
    "version": 3
   },
   "file_extension": ".py",
   "mimetype": "text/x-python",
   "name": "python",
   "nbconvert_exporter": "python",
   "pygments_lexer": "ipython3",
   "version": "3.8.8"
  }
 },
 "nbformat": 4,
 "nbformat_minor": 5
}
