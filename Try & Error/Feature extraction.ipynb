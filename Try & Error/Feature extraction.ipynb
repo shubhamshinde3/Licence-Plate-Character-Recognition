{
 "cells": [
  {
   "cell_type": "code",
   "execution_count": 5,
   "id": "931b9eb7",
   "metadata": {},
   "outputs": [],
   "source": [
    "import numpy as numpy\n",
    "import cv2\n",
    "\n",
    "img = cv2.imread(\"extracted/skel_2.png\",0)\n",
    "grey_levels = 256\n",
    "# Generate a test image\n",
    "test_image = numpy.random.randint(0,grey_levels, size=(11,11))\n",
    "\n",
    "# Define the window size\n",
    "windowsize_r = 5\n",
    "windowsize_c = 5\n",
    "\n",
    "# Crop out the window and calculate the histogram\n",
    "for r in range(0,test_image.shape[0] - windowsize_r, windowsize_r):\n",
    "    for c in range(0,test_image.shape[1] - windowsize_c, windowsize_c):\n",
    "        window = test_image[r:r+windowsize_r,c:c+windowsize_c]\n",
    "        hist = numpy.histogram(window,bins=grey_levels)"
   ]
  },
  {
   "cell_type": "code",
   "execution_count": 6,
   "id": "f4a4245c",
   "metadata": {},
   "outputs": [],
   "source": [
    "import cv2\n",
    "import os\n",
    "import numpy as np\n",
    "import matplotlib.pyplot as plt\n",
    "import skimage\n",
    "import csv\n",
    "from skimage import img_as_float\n",
    "from skimage import io, color, morphology"
   ]
  },
  {
   "cell_type": "code",
   "execution_count": 56,
   "id": "e7e0d185",
   "metadata": {},
   "outputs": [
    {
     "name": "stdout",
     "output_type": "stream",
     "text": [
      "   label  eccentricity  area   perimeter  euler_number  orientation  solidity\n",
      "3      4      1.000000     3    1.000000             1     0.000000  1.000000\n",
      "1      2      0.308537   494  408.699531           -91     1.071133  0.484314\n",
      "0      1      0.000000     1    0.000000             1     0.785398  1.000000\n"
     ]
    }
   ],
   "source": [
    "import pandas as pd\n",
    "import imageio as iio\n",
    "from skimage.measure import regionprops_table, label\n",
    "\n",
    "image = np.asarray(cv2.imread('extracted/skel_10.jpeg',0))\n",
    "labeled = label(image > 0)  # ensure input is binary\n",
    "data = regionprops_table(labeled,properties=('label','eccentricity','area', 'perimeter','euler_number','orientation','solidity'),separator='-')\n",
    "table = pd.DataFrame(data)\n",
    "#print(table)\n",
    "table_sorted_by_ecc = table.sort_values(by='eccentricity', ascending=False)\n",
    "# print e.g. the 10 most eccentric labels\n",
    "print(table_sorted_by_ecc.iloc[:3])"
   ]
  },
  {
   "cell_type": "code",
   "execution_count": null,
   "id": "a0fe2364",
   "metadata": {},
   "outputs": [],
   "source": []
  },
  {
   "cell_type": "code",
   "execution_count": 57,
   "id": "a1b97276",
   "metadata": {},
   "outputs": [
    {
     "ename": "ModuleNotFoundError",
     "evalue": "No module named 'mahotas'",
     "output_type": "error",
     "traceback": [
      "\u001b[1;31m---------------------------------------------------------------------------\u001b[0m",
      "\u001b[1;31mModuleNotFoundError\u001b[0m                       Traceback (most recent call last)",
      "\u001b[1;32m<ipython-input-57-df7cecf71592>\u001b[0m in \u001b[0;36m<module>\u001b[1;34m\u001b[0m\n\u001b[0;32m      1\u001b[0m \u001b[1;31m# importing required libraries\u001b[0m\u001b[1;33m\u001b[0m\u001b[1;33m\u001b[0m\u001b[1;33m\u001b[0m\u001b[0m\n\u001b[1;32m----> 2\u001b[1;33m \u001b[1;32mimport\u001b[0m \u001b[0mmahotas\u001b[0m\u001b[1;33m\u001b[0m\u001b[1;33m\u001b[0m\u001b[0m\n\u001b[0m\u001b[0;32m      3\u001b[0m \u001b[1;32mimport\u001b[0m \u001b[0mmahotas\u001b[0m\u001b[1;33m.\u001b[0m\u001b[0mdemos\u001b[0m\u001b[1;33m\u001b[0m\u001b[1;33m\u001b[0m\u001b[0m\n\u001b[0;32m      4\u001b[0m \u001b[1;32mimport\u001b[0m \u001b[0mnumpy\u001b[0m \u001b[1;32mas\u001b[0m \u001b[0mnp\u001b[0m\u001b[1;33m\u001b[0m\u001b[1;33m\u001b[0m\u001b[0m\n\u001b[0;32m      5\u001b[0m \u001b[1;32mimport\u001b[0m \u001b[0mmatplotlib\u001b[0m\u001b[1;33m.\u001b[0m\u001b[0mpyplot\u001b[0m \u001b[1;32mas\u001b[0m \u001b[0mplt\u001b[0m\u001b[1;33m\u001b[0m\u001b[1;33m\u001b[0m\u001b[0m\n",
      "\u001b[1;31mModuleNotFoundError\u001b[0m: No module named 'mahotas'"
     ]
    }
   ],
   "source": [
    "# importing required libraries\n",
    "import mahotas\n",
    "import mahotas.demos\n",
    "import numpy as np\n",
    "import matplotlib.pyplot as plt\n",
    "\n",
    "# loading image\n",
    "img = cv2.imread(\"extracted/skel_1.jpeg\")\n",
    "\n",
    "# filtering image\n",
    "img = img.max(2)\n",
    "\n",
    "# showing image\n",
    "\n",
    "# computing eccentricity value\n",
    "value = mahotas.features.eccentricity(img)\n",
    "\n",
    "\n",
    "# showing value\n",
    "print(\"Eccentricity value = \" + str(value))\n"
   ]
  },
  {
   "cell_type": "code",
   "execution_count": null,
   "id": "f6a1a967",
   "metadata": {},
   "outputs": [],
   "source": []
  }
 ],
 "metadata": {
  "kernelspec": {
   "display_name": "Python 3",
   "language": "python",
   "name": "python3"
  },
  "language_info": {
   "codemirror_mode": {
    "name": "ipython",
    "version": 3
   },
   "file_extension": ".py",
   "mimetype": "text/x-python",
   "name": "python",
   "nbconvert_exporter": "python",
   "pygments_lexer": "ipython3",
   "version": "3.8.8"
  }
 },
 "nbformat": 4,
 "nbformat_minor": 5
}
